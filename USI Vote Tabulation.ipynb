{
 "cells": [
  {
   "cell_type": "markdown",
   "id": "three-venture",
   "metadata": {},
   "source": [
    "# This workbook was made for use in UCCSU Student Council voting"
   ]
  },
  {
   "cell_type": "code",
   "execution_count": 19,
   "id": "facial-while",
   "metadata": {},
   "outputs": [],
   "source": [
    "# Importing necessary modules\n",
    "import pandas as pd\n",
    "import tabulate as tb\n",
    "import math"
   ]
  },
  {
   "cell_type": "markdown",
   "id": "bulgarian-importance",
   "metadata": {},
   "source": [
    "### Importing the ballots and cleaning up the file"
   ]
  },
  {
   "cell_type": "code",
   "execution_count": 20,
   "id": "subtle-washington",
   "metadata": {},
   "outputs": [],
   "source": [
    "# Imports a data file named \"Ballots.csv\"\n",
    "data = pd.read_csv(\"Ballots.csv\")\n",
    "\n",
    "# Removing timestamp\n",
    "data.drop('Timestamp', inplace=True, axis=1)"
   ]
  },
  {
   "cell_type": "markdown",
   "id": "decreased-organizer",
   "metadata": {},
   "source": [
    "### Eliminating any votes that are not in the list of Council Members"
   ]
  },
  {
   "cell_type": "code",
   "execution_count": 21,
   "id": "capable-shelter",
   "metadata": {},
   "outputs": [],
   "source": [
    "# Imports the list of emails\n",
    "emails = pd.read_csv(\"Emails.csv\")\n",
    "\n",
    "# Checks every entry in the \"Email Address\" column of the data file and adds it to the ballots file if there is an entry in the \"Members\" column of the emails file\n",
    "ballots = data[data[\"Email Address\"].isin(emails[\"Members\"])].fillna(0)"
   ]
  },
  {
   "cell_type": "markdown",
   "id": "engaged-snapshot",
   "metadata": {},
   "source": [
    "### Seperating the combined ballots into ballots for each position"
   ]
  },
  {
   "cell_type": "code",
   "execution_count": 22,
   "id": "honey-resident",
   "metadata": {},
   "outputs": [],
   "source": [
    "# President\n",
    "pres_ballots = ballots[[\n",
    "    \"President [Clare Austick]\", \n",
    "    \"President [RON]\"\n",
    "]].astype('Int64')\n",
    "\n",
    "pres_ballots.columns = [\n",
    "    \"Clare Austick\",\n",
    "    \"RON\"\n",
    "]\n",
    "\n",
    "# VP for Academic Affairs\n",
    "academic_ballots = ballots[[\n",
    "    \"VP for Academic Affairs [Eimear Curtin]\", \n",
    "    \"VP for Academic Affairs [Megan O'Connor]\", \n",
    "    \"VP for Academic Affairs [RON]\"\n",
    "]].astype('Int64')\n",
    "\n",
    "academic_ballots.columns = [\n",
    "    \"Eimear Curtin\",\n",
    "    \"Megan O'Connor\",\n",
    "    \"RON\"\n",
    "]\n",
    "\n",
    "# VP for Welfare\n",
    "welfare_ballots = ballots[[\n",
    "    \"VP for Welfare [Somhairle Brennan]\",\n",
    "    \"VP for Welfare [RON]\"\n",
    "]].astype('Int64')\n",
    "\n",
    "welfare_ballots.columns = [\n",
    "    \"Somhairle Brennan\",\n",
    "    \"RON\"\n",
    "]\n",
    "\n",
    "# VP for Campaigns\n",
    "campaigns_ballots = ballots[[\n",
    "    \"VP for Campaigns [Beth O'Reilly]\",\n",
    "    \"VP for Welfare [RON]\"\n",
    "]]\n",
    "\n",
    "campaigns_ballots.columns = [\n",
    "    \"Beth O'Reilly\",\n",
    "    \"RON\"\n",
    "]\n",
    "\n",
    "# VP for Equality & Citizenship\n",
    "equality_ballots = ballots[[\n",
    "    \"VP for Equality & Citizenship [Bukky Adebowale]\",\n",
    "    \"VP for Equality & Citizenship [Luke Daly]\",\n",
    "    \"VP for Equality & Citizenship [RON]\"\n",
    "]]\n",
    "\n",
    "equality_ballots.columns = [\n",
    "    \"Bukky Adebowale\",\n",
    "    \"Luke Daly\",\n",
    "    \"RON\"\n",
    "]\n",
    "\n",
    "# Leas-Uachtarán don Ghaeilge\n",
    "gaeilge_ballots = ballots[[\n",
    "    \"Leas-Uachtarán don Ghaeilge [Muireann Nic Corcráin]\",\n",
    "    \"Leas-Uachtarán don Ghaeilge [Grian Ní Dhaimhin]\",\n",
    "    \"Leas-Uachtarán don Ghaeilge [RON]\"\n",
    "]]\n",
    "\n",
    "gaeilge_ballots.columns = [\n",
    "    \"Muireann Nic Corcráin\",\n",
    "    \"Grian Ní Dhaimhin\",\n",
    "    \"RON\"\n",
    "]\n",
    "\n",
    "# VP for Postgraduate-Affairs\n",
    "postgrad_ballots = ballots[[\n",
    "    \"VP for Postgraduate Affairs [Jenna Barry]\",\n",
    "    \"VP for Postgraduate Affairs [RON]\"\n",
    "]]\n",
    "\n",
    "postgrad_ballots.columns = [\n",
    "    \"Jenna Barry\",\n",
    "    \"RON\"\n",
    "]\n",
    "\n",
    "# VP for the Southern Region\n",
    "southern_ballots = ballots[[\n",
    "    \"VP for the Southern Region [John Fortune]\",\n",
    "    \"VP for the Southern Region [Nutatwud Nutchanat]\",\n",
    "    \"VP for the Southern Region [RON]\"\n",
    "]]\n",
    "\n",
    "southern_ballots.columns = [\n",
    "    \"John Fortune\",\n",
    "    \"Nutatwud Nutchanat\",\n",
    "    \"RON\"\n",
    "]"
   ]
  },
  {
   "cell_type": "markdown",
   "id": "desirable-reception",
   "metadata": {},
   "source": [
    "### Defining method for counting the votes"
   ]
  },
  {
   "cell_type": "markdown",
   "id": "cubic-engineer",
   "metadata": {},
   "source": [
    "#### Counts the number of preferences each candidate received"
   ]
  },
  {
   "cell_type": "code",
   "execution_count": 23,
   "id": "elder-treat",
   "metadata": {},
   "outputs": [],
   "source": [
    "def tally(ballots, candidate):\n",
    "    \n",
    "    # Initialising preference counts\n",
    "    pref_1 = 0\n",
    "    pref_2 = 0\n",
    "    pref_3 = 0\n",
    "    \n",
    "    # Counting number of preferences\n",
    "    for j in ballots[candidate]:\n",
    "        if j == 1:\n",
    "            pref_1 += 1\n",
    "        if j == 2:\n",
    "            pref_2 += 1\n",
    "        if j == 3:\n",
    "            pref_3 += 1\n",
    "    \n",
    "    return pref_1, pref_2, pref_3"
   ]
  },
  {
   "cell_type": "markdown",
   "id": "impossible-circus",
   "metadata": {},
   "source": [
    "### Gets the candidate(s) with the lowest value pref"
   ]
  },
  {
   "cell_type": "code",
   "execution_count": 24,
   "id": "broke-perry",
   "metadata": {},
   "outputs": [],
   "source": [
    "def get_indexes_min_value(list):\n",
    "    \n",
    "    # Removing 0's from the list\n",
    "    for i in list:\n",
    "        if i == 0:\n",
    "            list.pop(i)\n",
    "    # What is the minimum value\n",
    "    min_value = min(list)\n",
    "    \n",
    "    # If there are more than one minimum value (tied last) then return both indices\n",
    "    if list.count(min_value) > 1:\n",
    "        return [i for i, x in enumerate(list) if x == min(list)]\n",
    "    \n",
    "    # Else return the index of the minimum value\n",
    "    else:\n",
    "        return list.index(min(list))"
   ]
  },
  {
   "cell_type": "markdown",
   "id": "cultural-progress",
   "metadata": {},
   "source": [
    "### Gets the candidate(s) with the highest value pref"
   ]
  },
  {
   "cell_type": "code",
   "execution_count": 25,
   "id": "verified-chance",
   "metadata": {},
   "outputs": [],
   "source": [
    "def get_indexes_max_value(list):\n",
    "    \n",
    "    # Wat is the maximum value\n",
    "    max_value = max(list)\n",
    "    \n",
    "    # If there are more than one maximum value then return both indices\n",
    "    if list.count(max_value) > 1:\n",
    "        return [i for i, x in enumerate(list) if x == max(list)]\n",
    "    \n",
    "    # Else return the index of the maximum value\n",
    "    else:\n",
    "        return list.index(max(list))"
   ]
  },
  {
   "cell_type": "markdown",
   "id": "relevant-tender",
   "metadata": {},
   "source": [
    "### Calculates the valid poll and droop quota"
   ]
  },
  {
   "cell_type": "code",
   "execution_count": 26,
   "id": "eastern-choir",
   "metadata": {},
   "outputs": [],
   "source": [
    "def quota(ballots):\n",
    "    \n",
    "    candidates = ballots.columns.values.tolist()\n",
    "    votes_with_no_first_preference = ballots.copy()\n",
    "    \n",
    "    # Calculating how many votes have no preferences\n",
    "    for i in candidates:\n",
    "        votes_with_no_first_preference = votes_with_no_first_preference[votes_with_no_first_preference[i] != 1]\n",
    "    total_invalid_votes = len(votes_with_no_first_preference)\n",
    "        \n",
    "    # Calculate the valid poll and droop quota\n",
    "    valid_poll = len(ballots) - total_invalid_votes\n",
    "    droop_quota = math.floor(valid_poll / 2) + 1\n",
    "    \n",
    "    return droop_quota, valid_poll"
   ]
  },
  {
   "cell_type": "markdown",
   "id": "everyday-relief",
   "metadata": {},
   "source": [
    "### Prints the tallies as they stand"
   ]
  },
  {
   "cell_type": "code",
   "execution_count": 27,
   "id": "willing-frame",
   "metadata": {},
   "outputs": [],
   "source": [
    "def print_results(ballots):\n",
    "    \n",
    "    # Gets the list of Candidates\n",
    "    candidates = ballots.columns.values.tolist()\n",
    "    # Initialises the output table with the headings\n",
    "    output = [[\"Candidate\", \"1st Preference\", \"2nd Preference\", \"3rd Preference\"]]\n",
    "    \n",
    "    #Calculates the total pref for each candidate and appends it to output table\n",
    "    for i in candidates:\n",
    "        pref_1, pref_2, pref_3 = tally(ballots, i)\n",
    "        output.append([i, str(pref_1), str(pref_2), str(pref_3)])\n",
    "        \n",
    "    print(tb.tabulate(output, headers=\"firstrow\") + \"\\n\")"
   ]
  },
  {
   "cell_type": "markdown",
   "id": "expanded-solomon",
   "metadata": {},
   "source": [
    "### Checks if a candidate has reached a quota and eliminates the candidate with the lowest 1st preference if not"
   ]
  },
  {
   "cell_type": "code",
   "execution_count": 60,
   "id": "wrapped-depression",
   "metadata": {},
   "outputs": [],
   "source": [
    "def eliminate(ballots):\n",
    "    \n",
    "    candidates = ballots.columns.values.tolist()\n",
    "    count = []\n",
    "    \n",
    "    for i in candidates:\n",
    "        pref_1, pref_2, pref_3 = tally(ballots, i)        \n",
    "        count.append([i, pref_1, pref_2, pref_3])\n",
    "    \n",
    "    # Checks the first preferences\n",
    "    all_pref_1 = [row[1] for row in count]\n",
    "    \n",
    "    # Check if any candidate has reached the quota\n",
    "    highest = max(all_pref_1)\n",
    "    droop_quota, valid_poll = quota(ballots)\n",
    "    \n",
    "    if highest >= droop_quota:\n",
    "        highest_candidate = get_indexes_max_value(all_pref_1)\n",
    "        print(candidates[highest_candidate] + \" has exceeded the quota and is deemed elected \\n\")\n",
    "        return True\n",
    "    \n",
    "    # Get the lowest candidate(s) if no winner\n",
    "    eliminated = get_indexes_min_value(all_pref_1)\n",
    "    \n",
    "    # If only one candidate has the lowest 1st preferences then eliminate them and redistribute preferences\n",
    "    if type(eliminated) == int:\n",
    "        print(candidates[eliminated] + \" is eliminated as they have the lowest 1st preferences of remaining candidates \\n\")\n",
    "        eliminated_ballots = redistribute_preferences(ballots, candidates[eliminated])\n",
    "    \n",
    "    # If multiple candidates have tied lowest 1st preferences then tally their second and eliminate\n",
    "    elif len(eliminated) > 1:\n",
    "        all_pref_2 = [row[2] for row in count]\n",
    "        eliminated_2 = get_indexes_min_value(all_pref_2)\n",
    "        \n",
    "        if type(eliminated_2) == int:\n",
    "            print(candidates[eliminated[0]] + \" & \" + candidates[eliminated[1]] + \" had a tied 1st preference so \" + candidates[eliminated_2] + \" was eliminated on 2nd preferences \\n\")\n",
    "            eliminated_ballots = redistribute_preferences(ballots, candidates[eliminated_2])\n",
    "        \n",
    "        # If still tied then print below as coin flip will have to be done\n",
    "        else:\n",
    "            print(\"Multiple candidates have tied preferences \\n\")\n",
    "            return False\n",
    "    \n",
    "    return eliminated_ballots"
   ]
  },
  {
   "cell_type": "markdown",
   "id": "expensive-thumb",
   "metadata": {},
   "source": [
    "### Redistributes the preferences of the eliminated candidate"
   ]
  },
  {
   "cell_type": "code",
   "execution_count": 45,
   "id": "referenced-cache",
   "metadata": {},
   "outputs": [],
   "source": [
    "def redistribute_preferences(ballots, candidate):\n",
    "    \n",
    "    # Getting the index of each vote that has the eliminated candidate as 1st preference\n",
    "    votes_to_distribute_index = ballots.loc[ballots[candidate] == 1].index.tolist()\n",
    "    \n",
    "    # Dataframe with all votes that have preferences that need distributing\n",
    "    votes_to_distribute = ballots.loc[votes_to_distribute_index, :]\n",
    "    \n",
    "    # Replacing 2nd Pref with 1st Pref etc.\n",
    "    for i in range(len(votes_to_distribute)):\n",
    "        for j in range(len(ballots.columns.values.tolist())):\n",
    "            for k in range(1, len(ballots.columns.values.tolist()) + 1):\n",
    "                if votes_to_distribute.iloc[i, j] == k:\n",
    "                    votes_to_distribute.iloc[i, j] = k-1\n",
    "    \n",
    "    # Merging this back to the full ballots\n",
    "    updated_ballots = ballots.copy()\n",
    "    updated_ballots.update(votes_to_distribute)\n",
    "    \n",
    "    return updated_ballots"
   ]
  },
  {
   "cell_type": "markdown",
   "id": "searching-senator",
   "metadata": {},
   "source": [
    "### Main function combining the above methods"
   ]
  },
  {
   "cell_type": "code",
   "execution_count": 46,
   "id": "diagnostic-steal",
   "metadata": {},
   "outputs": [],
   "source": [
    "def main(ballots):\n",
    "    \n",
    "    active_ballots = ballots\n",
    "    \n",
    "    for i in range(0, len(ballots.columns) - 1):\n",
    "        \n",
    "        # Print Count\n",
    "        print(\"Count \" + str(i+1))\n",
    "        \n",
    "        # Print Quota\n",
    "        droop_quota, valid_poll = quota(active_ballots)\n",
    "        print(\"Total valid poll is = \" + str(valid_poll))\n",
    "        print(\"Quota is = \" + str(droop_quota) + \"\\n\")\n",
    "        \n",
    "        # Print Results\n",
    "        print_results(active_ballots)\n",
    "        \n",
    "        #Check for winner and eliminate if none\n",
    "        active_ballots = eliminate(active_ballots)\n",
    "        \n",
    "        # True is if winner is found. False is if a winner couldn't be determined\n",
    "        if type(active_ballots) == bool:\n",
    "            if active_ballots == True:\n",
    "                print(\"Winner has been found\")\n",
    "            if active_ballots == False:\n",
    "                print(\"No winner could be determined\")"
   ]
  },
  {
   "cell_type": "markdown",
   "id": "heated-reggae",
   "metadata": {},
   "source": [
    "# The Count"
   ]
  },
  {
   "cell_type": "code",
   "execution_count": 47,
   "id": "hidden-crest",
   "metadata": {},
   "outputs": [
    {
     "name": "stdout",
     "output_type": "stream",
     "text": [
      "Count 1\n",
      "Total valid poll is = 31\n",
      "Quota is = 16\n",
      "\n",
      "Candidate        1st Preference    2nd Preference    3rd Preference\n",
      "-------------  ----------------  ----------------  ----------------\n",
      "Clare Austick                14                13                 0\n",
      "RON                          17                 9                 0\n",
      "\n",
      "RON has exceeded the quota and is deemed elected \n",
      "\n",
      "Winner has been found\n"
     ]
    }
   ],
   "source": [
    "main(pres_ballots)"
   ]
  },
  {
   "cell_type": "code",
   "execution_count": 48,
   "id": "embedded-master",
   "metadata": {},
   "outputs": [
    {
     "name": "stdout",
     "output_type": "stream",
     "text": [
      "Count 1\n",
      "Total valid poll is = 30\n",
      "Quota is = 16\n",
      "\n",
      "Candidate         1st Preference    2nd Preference    3rd Preference\n",
      "--------------  ----------------  ----------------  ----------------\n",
      "Eimear Curtin                 10                 7                 7\n",
      "Megan O'Connor                 8                13                 5\n",
      "RON                           12                 4                 9\n",
      "\n",
      "Megan O'Connor is eliminated as they have the lowest 1st preferences of remaining candidates \n",
      "\n",
      "Count 2\n",
      "Total valid poll is = 28\n",
      "Quota is = 15\n",
      "\n",
      "Candidate         1st Preference    2nd Preference    3rd Preference\n",
      "--------------  ----------------  ----------------  ----------------\n",
      "Eimear Curtin                 13                 6                 5\n",
      "Megan O'Connor                 0                13                 5\n",
      "RON                           15                 3                 7\n",
      "\n",
      "RON has exceeded the quota and is deemed elected \n",
      "\n",
      "Winner has been found\n"
     ]
    }
   ],
   "source": [
    "main(academic_ballots)"
   ]
  },
  {
   "cell_type": "code",
   "execution_count": 49,
   "id": "capital-attraction",
   "metadata": {},
   "outputs": [
    {
     "name": "stdout",
     "output_type": "stream",
     "text": [
      "Count 1\n",
      "Total valid poll is = 29\n",
      "Quota is = 15\n",
      "\n",
      "Candidate            1st Preference    2nd Preference    3rd Preference\n",
      "-----------------  ----------------  ----------------  ----------------\n",
      "Somhairle Brennan                15                 9                 0\n",
      "RON                              14                12                 0\n",
      "\n",
      "Somhairle Brennan has exceeded the quota and is deemed elected \n",
      "\n",
      "Winner has been found\n"
     ]
    }
   ],
   "source": [
    "main(welfare_ballots)"
   ]
  },
  {
   "cell_type": "code",
   "execution_count": 50,
   "id": "demanding-authorization",
   "metadata": {},
   "outputs": [
    {
     "name": "stdout",
     "output_type": "stream",
     "text": [
      "Count 1\n",
      "Total valid poll is = 27\n",
      "Quota is = 14\n",
      "\n",
      "Candidate        1st Preference    2nd Preference    3rd Preference\n",
      "-------------  ----------------  ----------------  ----------------\n",
      "Beth O'Reilly                18                11                 0\n",
      "RON                          14                12                 0\n",
      "\n",
      "Beth O'Reilly has exceeded the quota and is deemed elected \n",
      "\n",
      "Winner has been found\n"
     ]
    }
   ],
   "source": [
    "main(campaigns_ballots)"
   ]
  },
  {
   "cell_type": "code",
   "execution_count": 51,
   "id": "worldwide-maintenance",
   "metadata": {},
   "outputs": [
    {
     "name": "stdout",
     "output_type": "stream",
     "text": [
      "Count 1\n",
      "Total valid poll is = 30\n",
      "Quota is = 16\n",
      "\n",
      "Candidate          1st Preference    2nd Preference    3rd Preference\n",
      "---------------  ----------------  ----------------  ----------------\n",
      "Bukky Adebowale                10                11                 5\n",
      "Luke Daly                       7                13                 5\n",
      "RON                            13                 1                10\n",
      "\n",
      "Luke Daly is eliminated as they have the lowest 1st preferences of remaining candidates \n",
      "\n",
      "Count 2\n",
      "Total valid poll is = 30\n",
      "Quota is = 16\n",
      "\n",
      "Candidate          1st Preference    2nd Preference    3rd Preference\n",
      "---------------  ----------------  ----------------  ----------------\n",
      "Bukky Adebowale                17                 4                 5\n",
      "Luke Daly                       0                13                 5\n",
      "RON                            13                 5                 6\n",
      "\n",
      "Bukky Adebowale has exceeded the quota and is deemed elected \n",
      "\n",
      "Winner has been found\n"
     ]
    }
   ],
   "source": [
    "main(equality_ballots)"
   ]
  },
  {
   "cell_type": "code",
   "execution_count": 52,
   "id": "characteristic-courtesy",
   "metadata": {},
   "outputs": [
    {
     "name": "stdout",
     "output_type": "stream",
     "text": [
      "Count 1\n",
      "Total valid poll is = 31\n",
      "Quota is = 16\n",
      "\n",
      "Candidate                1st Preference    2nd Preference    3rd Preference\n",
      "---------------------  ----------------  ----------------  ----------------\n",
      "Muireann Nic Corcráin                 9                 8                 8\n",
      "Grian Ní Dhaimhin                     8                13                 5\n",
      "RON                                  14                 6                 7\n",
      "\n",
      "Grian Ní Dhaimhin is eliminated as they have the lowest 1st preferences of remaining candidates \n",
      "\n",
      "Count 2\n",
      "Total valid poll is = 31\n",
      "Quota is = 16\n",
      "\n",
      "Candidate                1st Preference    2nd Preference    3rd Preference\n",
      "---------------------  ----------------  ----------------  ----------------\n",
      "Muireann Nic Corcráin                14                 4                 7\n",
      "Grian Ní Dhaimhin                     0                13                 5\n",
      "RON                                  17                 5                 5\n",
      "\n",
      "RON has exceeded the quota and is deemed elected \n",
      "\n",
      "Winner has been found\n"
     ]
    }
   ],
   "source": [
    "main(gaeilge_ballots)"
   ]
  },
  {
   "cell_type": "code",
   "execution_count": 61,
   "id": "characteristic-warner",
   "metadata": {},
   "outputs": [
    {
     "name": "stdout",
     "output_type": "stream",
     "text": [
      "Count 1\n",
      "Total valid poll is = 30\n",
      "Quota is = 16\n",
      "\n",
      "Candidate      1st Preference    2nd Preference    3rd Preference\n",
      "-----------  ----------------  ----------------  ----------------\n",
      "Jenna Barry                15                11                 0\n",
      "RON                        15                10                 0\n",
      "\n",
      "Jenna Barry & RON had a tied 1st preference so RON was eliminated on 2nd preferences \n",
      "\n"
     ]
    }
   ],
   "source": [
    "main(postgrad_ballots)"
   ]
  },
  {
   "cell_type": "code",
   "execution_count": 54,
   "id": "logical-continuity",
   "metadata": {},
   "outputs": [
    {
     "name": "stdout",
     "output_type": "stream",
     "text": [
      "Count 1\n",
      "Total valid poll is = 30\n",
      "Quota is = 16\n",
      "\n",
      "Candidate             1st Preference    2nd Preference    3rd Preference\n",
      "------------------  ----------------  ----------------  ----------------\n",
      "John Fortune                      14                 5                 7\n",
      "Nutatwud Nutchanat                 6                16                 4\n",
      "RON                               10                 5                12\n",
      "\n",
      "Nutatwud Nutchanat is eliminated as they have the lowest 1st preferences of remaining candidates \n",
      "\n",
      "Count 2\n",
      "Total valid poll is = 30\n",
      "Quota is = 16\n",
      "\n",
      "Candidate             1st Preference    2nd Preference    3rd Preference\n",
      "------------------  ----------------  ----------------  ----------------\n",
      "John Fortune                      19                 0                 7\n",
      "Nutatwud Nutchanat                 0                16                 4\n",
      "RON                               11                 7                 9\n",
      "\n",
      "John Fortune has exceeded the quota and is deemed elected \n",
      "\n",
      "Winner has been found\n"
     ]
    }
   ],
   "source": [
    "main(southern_ballots)"
   ]
  }
 ],
 "metadata": {
  "kernelspec": {
   "display_name": "Python 3",
   "language": "python",
   "name": "python3"
  },
  "language_info": {
   "codemirror_mode": {
    "name": "ipython",
    "version": 3
   },
   "file_extension": ".py",
   "mimetype": "text/x-python",
   "name": "python",
   "nbconvert_exporter": "python",
   "pygments_lexer": "ipython3",
   "version": "3.8.8"
  }
 },
 "nbformat": 4,
 "nbformat_minor": 5
}
